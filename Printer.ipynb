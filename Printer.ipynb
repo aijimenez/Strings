{
 "cells": [
  {
   "cell_type": "markdown",
   "metadata": {},
   "source": [
    "Takes a list of lists and displays it in a well-organized table with each column right-justified"
   ]
  },
  {
   "cell_type": "code",
   "execution_count": 100,
   "metadata": {},
   "outputs": [
    {
     "name": "stdout",
     "output_type": "stream",
     "text": [
      "  apples     Alice      dogs  \n",
      " oranges       Bob      cats  \n",
      "cherries     Carol     moose  \n",
      "  banana     David     goose  \n"
     ]
    }
   ],
   "source": [
    "table = [['apples', 'oranges', 'cherries', 'banana'],\n",
    "         ['Alice', 'Bob', 'Carol', 'David'],\n",
    "         ['dogs', 'cats', 'moose', 'goose']]\n",
    "\n",
    "#find the longest string\n",
    "def maxString(table):\n",
    "    maximo = 0\n",
    "    for i in table:\n",
    "        for j in i:\n",
    "            if len(j) > maximo:\n",
    "                maximo = len(j)\n",
    "    return maximo\n",
    "#organize table\n",
    "def organize(table):\n",
    "    new = []\n",
    "    for i in range(len(table[0])):\n",
    "        for j in range(len(table)):\n",
    "            print(table[j][i].rjust(maximo), ' ', end = '')\n",
    "        print('')\n",
    "    \n",
    "organize(table)\n"
   ]
  },
  {
   "cell_type": "code",
   "execution_count": 76,
   "metadata": {},
   "outputs": [
    {
     "name": "stdout",
     "output_type": "stream",
     "text": [
      "  apples     Alice      dogs  \n",
      " oranges       Bob      cats  \n",
      "cherries     Carol     moose  \n",
      "  banana     David     goose  \n"
     ]
    }
   ],
   "source": [
    "for i in range(len(table[0])):\n",
    "    for j in range(len(table)):\n",
    "        print(table[j][i].rjust(maximo), ' ', end = '')\n",
    "    print('')\n"
   ]
  },
  {
   "cell_type": "code",
   "execution_count": 23,
   "metadata": {},
   "outputs": [
    {
     "name": "stdout",
     "output_type": "stream",
     "text": [
      "apples Alice dogs\n",
      "oranges Bob cats\n",
      "cherries Carol moose\n",
      "banana David goose\n"
     ]
    }
   ],
   "source": [
    "print(table[0][0], table[1][0], table[2][0])\n",
    "print(table[0][1], table[1][1], table[2][1])\n",
    "print(table[0][2], table[1][2], table[2][2])\n",
    "print(table[0][3], table[1][3], table[2][3])"
   ]
  },
  {
   "cell_type": "code",
   "execution_count": 82,
   "metadata": {},
   "outputs": [
    {
     "name": "stdout",
     "output_type": "stream",
     "text": [
      "apples Alice dogs\n",
      "oranges Bob cats\n",
      "cherries Carol moose\n",
      "banana David goose\n"
     ]
    }
   ],
   "source": [
    "print('\\n'.join(map(' '.join, zip(*table))))"
   ]
  },
  {
   "cell_type": "code",
   "execution_count": 6,
   "metadata": {},
   "outputs": [
    {
     "name": "stdout",
     "output_type": "stream",
     "text": [
      "6 apples\n",
      "7 oranges\n",
      "8 cherries\n",
      "6 banana\n",
      "5 Alice\n",
      "3 Bob\n",
      "5 Carol\n",
      "5 David\n",
      "4 dogs\n",
      "4 cats\n",
      "5 moose\n",
      "5 goose\n"
     ]
    }
   ],
   "source": [
    "for i in table:\n",
    "    for j in i:\n",
    "        print(len(j), j)"
   ]
  }
 ],
 "metadata": {
  "kernelspec": {
   "display_name": "Python 3",
   "language": "python",
   "name": "python3"
  },
  "language_info": {
   "codemirror_mode": {
    "name": "ipython",
    "version": 3
   },
   "file_extension": ".py",
   "mimetype": "text/x-python",
   "name": "python",
   "nbconvert_exporter": "python",
   "pygments_lexer": "ipython3",
   "version": "3.7.3"
  }
 },
 "nbformat": 4,
 "nbformat_minor": 2
}

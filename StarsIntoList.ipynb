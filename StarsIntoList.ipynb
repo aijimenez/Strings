{
 "cells": [
  {
   "cell_type": "code",
   "execution_count": 3,
   "metadata": {},
   "outputs": [
    {
     "name": "stdout",
     "output_type": "stream",
     "text": [
      "* List\n",
      "* List2\n",
      "* list3\n",
      "* List4\n"
     ]
    }
   ],
   "source": [
    "# replaces the text of a string with text\n",
    "# that has stars at the start of each line\n",
    "\n",
    "def StarIntoList(text):\n",
    "    text.split('\\n') \n",
    "    for i in text.split('\\n'):\n",
    "        print('*', i)\n",
    "        \n",
    "StarIntoList(text)"
   ]
  },
  {
   "cell_type": "code",
   "execution_count": 1,
   "metadata": {},
   "outputs": [
    {
     "data": {
      "text/plain": [
       "['List', 'List2', 'list3', 'List4']"
      ]
     },
     "execution_count": 1,
     "metadata": {},
     "output_type": "execute_result"
    }
   ],
   "source": [
    "text = 'List\\nList2\\nlist3\\nList4'\n",
    "#string into list\n",
    "text.split('\\n') "
   ]
  },
  {
   "cell_type": "code",
   "execution_count": 2,
   "metadata": {},
   "outputs": [
    {
     "name": "stdout",
     "output_type": "stream",
     "text": [
      "* List\n",
      "* List2\n",
      "* list3\n",
      "* List4\n"
     ]
    }
   ],
   "source": [
    "for i in text.split('\\n'):\n",
    "    print('*', i)"
   ]
  },
  {
   "cell_type": "code",
   "execution_count": 18,
   "metadata": {},
   "outputs": [
    {
     "name": "stdout",
     "output_type": "stream",
     "text": [
      "* lola\r\n",
      "* john\r\n",
      "* casandra\r\n",
      "* carol\n"
     ]
    }
   ],
   "source": [
    "# replaces the text on the clipboard with text\n",
    "# that has stars at the start of each line\n",
    "#! python3 \n",
    "\n",
    "import pyperclip\n",
    "\n",
    "fromWiki = pyperclip.paste()\n",
    "\n",
    "fromWiki.split('\\n') \n",
    "for i in fromWiki.split('\\n'):\n",
    "    bullet = '* ' + i\n",
    "    print(bullet)\n",
    "    \n",
    "#pyperclip.copy(bullet)\n",
    "\n",
    "#print(BulletList(fromWiki))"
   ]
  },
  {
   "cell_type": "code",
   "execution_count": null,
   "metadata": {},
   "outputs": [],
   "source": [
    "lola\n",
    "john\n",
    "casandra\n",
    "carol"
   ]
  }
 ],
 "metadata": {
  "kernelspec": {
   "display_name": "Python 3",
   "language": "python",
   "name": "python3"
  },
  "language_info": {
   "codemirror_mode": {
    "name": "ipython",
    "version": 3
   },
   "file_extension": ".py",
   "mimetype": "text/x-python",
   "name": "python",
   "nbconvert_exporter": "python",
   "pygments_lexer": "ipython3",
   "version": "3.7.3"
  }
 },
 "nbformat": 4,
 "nbformat_minor": 2
}

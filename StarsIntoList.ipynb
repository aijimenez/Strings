{
 "cells": [
  {
   "cell_type": "code",
   "execution_count": 3,
   "metadata": {},
   "outputs": [
    {
     "name": "stdout",
     "output_type": "stream",
     "text": [
      "* List\n",
      "* List2\n",
      "* list3\n",
      "* List4\n"
     ]
    }
   ],
   "source": [
    "def StarIntoList(text):\n",
    "    text.split('\\n') \n",
    "    for i in text.split('\\n'):\n",
    "        print('*', i)\n",
    "        \n",
    "StarIntoList(text)"
   ]
  },
  {
   "cell_type": "code",
   "execution_count": 1,
   "metadata": {},
   "outputs": [
    {
     "data": {
      "text/plain": [
       "['List', 'List2', 'list3', 'List4']"
      ]
     },
     "execution_count": 1,
     "metadata": {},
     "output_type": "execute_result"
    }
   ],
   "source": [
    "text = 'List\\nList2\\nlist3\\nList4'\n",
    "#string into list\n",
    "text.split('\\n') "
   ]
  },
  {
   "cell_type": "code",
   "execution_count": 2,
   "metadata": {},
   "outputs": [
    {
     "name": "stdout",
     "output_type": "stream",
     "text": [
      "* List\n",
      "* List2\n",
      "* list3\n",
      "* List4\n"
     ]
    }
   ],
   "source": [
    "for i in text.split('\\n'):\n",
    "    print('*', i)"
   ]
  },
  {
   "cell_type": "code",
   "execution_count": null,
   "metadata": {},
   "outputs": [],
   "source": []
  }
 ],
 "metadata": {
  "kernelspec": {
   "display_name": "Python 3",
   "language": "python",
   "name": "python3"
  },
  "language_info": {
   "codemirror_mode": {
    "name": "ipython",
    "version": 3
   },
   "file_extension": ".py",
   "mimetype": "text/x-python",
   "name": "python",
   "nbconvert_exporter": "python",
   "pygments_lexer": "ipython3",
   "version": "3.7.3"
  }
 },
 "nbformat": 4,
 "nbformat_minor": 2
}

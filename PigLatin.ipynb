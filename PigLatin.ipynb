{
 "cells": [
  {
   "cell_type": "markdown",
   "metadata": {},
   "source": [
    "#### PigLatin language\n",
    "\n",
    "* if a word begins with a vowel, the word yay is added to the end\n",
    "* if a word begins with a consonant or consonant cluster, that consonant is moved to the end of the word follow by ay\n",
    "\n",
    "*Examples*\n",
    "\n",
    "apple -apple yay  \n",
    "future -uture fay  \n",
    "clue -ue clay  "
   ]
  },
  {
   "cell_type": "code",
   "execution_count": 5,
   "metadata": {},
   "outputs": [
    {
     "name": "stdout",
     "output_type": "stream",
     "text": [
      "Enter the phrase to translate\n",
      "Vamos a probar si funciona el plato\n",
      "amosVay ayay obarpray isay uncionafay elyay atoplay\n"
     ]
    }
   ],
   "source": [
    "print('Enter the phrase to translate')\n",
    "sentence = input()\n",
    "newlist = sentence.split()\n",
    "\n",
    "translation = []\n",
    "vowels = ('a', 'e', 'i', 'o', 'u', 'y', 'A', 'E', 'I', 'O', 'U', 'Y')\n",
    "for word in newlist:\n",
    "    if word[0] in vowels:\n",
    "        translation.append(word + 'yay')\n",
    "    else:\n",
    "        if (word[0] not in vowels) & (word[1] not in vowels):\n",
    "            translation.append(word[2:] + word[:2] + 'ay')\n",
    "        else:\n",
    "            translation.append(word[1:] + word[0] + 'ay')\n",
    "            \n",
    "print(' '.join(translation))"
   ]
  },
  {
   "cell_type": "code",
   "execution_count": null,
   "metadata": {},
   "outputs": [],
   "source": []
  }
 ],
 "metadata": {
  "kernelspec": {
   "display_name": "Python 3",
   "language": "python",
   "name": "python3"
  },
  "language_info": {
   "codemirror_mode": {
    "name": "ipython",
    "version": 3
   },
   "file_extension": ".py",
   "mimetype": "text/x-python",
   "name": "python",
   "nbconvert_exporter": "python",
   "pygments_lexer": "ipython3",
   "version": "3.7.3"
  }
 },
 "nbformat": 4,
 "nbformat_minor": 2
}

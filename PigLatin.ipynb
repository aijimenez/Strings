{
 "cells": [
  {
   "cell_type": "markdown",
   "metadata": {},
   "source": [
    "#### PigLatin language\n",
    "\n",
    "* if a word begins with a vowel, the word yay is added to the end\n",
    "* if a word begins with a consonant or consonant cluster, that consonant is moved to the end of the word follow by ay\n",
    "\n",
    "*Examples*\n",
    "\n",
    "apple -apple yay  \n",
    "future -uture fay  \n",
    "clue -ue clay  "
   ]
  },
  {
   "cell_type": "code",
   "execution_count": 47,
   "metadata": {},
   "outputs": [
    {
     "name": "stdout",
     "output_type": "stream",
     "text": [
      "Enter the phrase to translate\n",
      "I have 20 cars and you? 40.\n",
      "Iyay avehay 20 arscay andyay youyay? 40ay.\n"
     ]
    }
   ],
   "source": [
    "print('Enter the phrase to translate')\n",
    "sentence = input()\n",
    "newlist = sentence.split()\n",
    "\n",
    "translation = []\n",
    "vowels = ('a', 'e', 'i', 'o', 'u', 'y', 'A', 'E', 'I', 'O', 'U', 'Y')\n",
    "signs = ('.', ',', '!', '?')\n",
    "\n",
    "for word in newlist:\n",
    "    # word contains a number\n",
    "    if word.isdecimal():\n",
    "        translation.append(word)\n",
    "    \n",
    "    elif word[-1] in signs:\n",
    "        sign = ''\n",
    "        sign = word[-1]\n",
    "        word = word[:-1]\n",
    "        \n",
    "        if word[0] in vowels:\n",
    "            translation.append(word + 'yay' + sign)\n",
    "        else:\n",
    "        #word starts with a cluster\n",
    "            if (word[0] not in vowels) & (word[1] not in vowels):\n",
    "                translation.append(word[2:] + word[:2] + 'ay' + sign)\n",
    "        #word starts with a consonant\n",
    "            else:\n",
    "                translation.append(word[1:] + word[0] + 'ay' + sign)\n",
    "        \n",
    "    #word starts with a vowel\n",
    "    elif word[0] in vowels:\n",
    "        translation.append(word + 'yay')\n",
    "    else:\n",
    "        #word starts with a cluster\n",
    "        if (word[0] not in vowels) & (word[1] not in vowels):\n",
    "            translation.append(word[2:] + word[:2] + 'ay')\n",
    "        #word starts with a consonant\n",
    "        else:\n",
    "            translation.append(word[1:] + word[0] + 'ay')\n",
    "            \n",
    "print(' '.join(translation))"
   ]
  },
  {
   "cell_type": "code",
   "execution_count": 53,
   "metadata": {},
   "outputs": [
    {
     "name": "stdout",
     "output_type": "stream",
     "text": [
      "Enter the phrase to translate\n",
      "Hello ANNE you have 2 mails.\n",
      "elloHay ANNEyay youyay avehay 2 ails.may\n"
     ]
    }
   ],
   "source": [
    "print('Enter the phrase to translate')\n",
    "sentence = input()\n",
    "newlist = sentence.split()\n",
    "\n",
    "translation = []\n",
    "vowels = ('a', 'e', 'i', 'o', 'u', 'y', 'A', 'E', 'I', 'O', 'U', 'Y')\n",
    "signs = ('.', ',', '!', '?')\n",
    "\n",
    "for word in newlist:\n",
    "    # word contains a number\n",
    "    if word.isdecimal():\n",
    "        translation.append(word)\n",
    "        \n",
    "    #word starts with a vowel\n",
    "    elif word[0] in vowels:\n",
    "        translation.append(word + 'yay')\n",
    "    else:\n",
    "        #word starts with a cluster\n",
    "        if (word[0] not in vowels) & (word[1] not in vowels):\n",
    "            translation.append(word[2:] + word[:2] + 'ay')\n",
    "        #word starts with a consonant\n",
    "        else:\n",
    "            translation.append(word[1:] + word[0] + 'ay')\n",
    "            \n",
    "print(' '.join(translation))"
   ]
  }
 ],
 "metadata": {
  "kernelspec": {
   "display_name": "Python 3",
   "language": "python",
   "name": "python3"
  },
  "language_info": {
   "codemirror_mode": {
    "name": "ipython",
    "version": 3
   },
   "file_extension": ".py",
   "mimetype": "text/x-python",
   "name": "python",
   "nbconvert_exporter": "python",
   "pygments_lexer": "ipython3",
   "version": "3.7.3"
  }
 },
 "nbformat": 4,
 "nbformat_minor": 2
}
